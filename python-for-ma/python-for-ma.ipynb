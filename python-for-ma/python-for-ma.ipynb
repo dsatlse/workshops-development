{
  "nbformat": 4,
  "nbformat_minor": 0,
  "metadata": {
    "colab": {
      "name": "Python for MA.ipynb",
      "provenance": [],
      "collapsed_sections": []
    },
    "kernelspec": {
      "name": "python3",
      "display_name": "Python 3"
    }
  },
  "cells": [
    {
      "cell_type": "markdown",
      "metadata": {
        "id": "xZHXpziUGI5E",
        "colab_type": "text"
      },
      "source": [
        "# Python for MAxxx: \n",
        "\n",
        "Why you should pick up Python to help with your MA100, MA107, MA212, MA207 and beyond\n",
        "\n",
        "3 Short Vignettes\n",
        "\n",
        "+ Calculus\n",
        "+ Linear Algebra\n",
        "\n",
        "**Requisites**: It would help if you were familiar with Python syntax\n",
        "\n",
        "**Target Audience**: Department of Maths, Statistics, Econ, Finance, Management students who take any of MA100, MA107, MA212, MA207.  <br/> But also anyone interested in Python for Data Science!"
      ]
    },
    {
      "cell_type": "markdown",
      "metadata": {
        "id": "CeQ0zVAFJ7WG",
        "colab_type": "text"
      },
      "source": [
        "### 1.2 Using Python as a calculator: \n",
        "\n",
        "Define functions, and compositions of functions, using standard operations (+ - * / ), trigonometric functions (sin, cos) and more standard functions\n",
        "\n",
        "\n",
        "*1.2.1 Python for functions*\n",
        "\n",
        "We can define $ f(x) = sin(x) + x^2 - x + 3$ in Python as such\n",
        "\n",
        "1.2.1.1 is the format: $f(x) = sin(x) + x^2 - x + 3$\n",
        "\n",
        "<!-- 1.2.1.2 is the format: $f:\\mathbb{R} \\rightarrow \\mathbb{R} ;  x  \\rightarrow sin(x) + x^2 - x + 3$ in the lambda notation -->\n",
        "\n"
      ]
    },
    {
      "cell_type": "code",
      "metadata": {
        "id": "AmUmlV4yF8tr",
        "colab_type": "code",
        "colab": {
          "base_uri": "https://localhost:8080/",
          "height": 35
        },
        "outputId": "343eb229-2bd7-4a1f-a56d-f9c4d0c317ca"
      },
      "source": [
        "import numpy as np\n",
        "\n",
        "#1.2.1.1\n",
        "def f(x):\n",
        "  '''\n",
        "  A standard function definition\n",
        "  A function takes in inputs and returns an output\n",
        "  Inputs: x\n",
        "  Outputs: sin(x) + x^2 + 3 - x\n",
        "  '''\n",
        "  return np.sin(x) + (x - 2) ** 2 + 3 - x\n",
        "\n",
        "# #1.2.1.2\n",
        "# #The same definition using a lambda; used for short functionns\n",
        "# f_2 = lambda x: np.sin(x) + (x - 2) ** 2 + 3 - x\n",
        "\n",
        "print(f(3.0))"
      ],
      "execution_count": null,
      "outputs": [
        {
          "output_type": "stream",
          "text": [
            "1.1411200080598674\n"
          ],
          "name": "stdout"
        }
      ]
    },
    {
      "cell_type": "markdown",
      "metadata": {
        "id": "jOXW1wSv92ry",
        "colab_type": "text"
      },
      "source": [
        "*1.2.2 Vectorisation*\n",
        "\n",
        "We can apply a function over an *array* of values as opposed to just one. \n",
        "\n",
        "*Note :  this requires using the numpy version of standard functions, np.sin, np.cos etc."
      ]
    },
    {
      "cell_type": "code",
      "metadata": {
        "id": "zRZdgriH916y",
        "colab_type": "code",
        "colab": {
          "base_uri": "https://localhost:8080/",
          "height": 34
        },
        "outputId": "073c391e-9384-44af-c7af-d0142928bdce"
      },
      "source": [
        "f(np.array([1.0, 2.0, 3.0]))"
      ],
      "execution_count": null,
      "outputs": [
        {
          "output_type": "execute_result",
          "data": {
            "text/plain": [
              "array([3.84147098, 1.90929743, 1.14112001])"
            ]
          },
          "metadata": {
            "tags": []
          },
          "execution_count": 8
        }
      ]
    },
    {
      "cell_type": "markdown",
      "metadata": {
        "id": "yBgJ8sS3MrWY",
        "colab_type": "text"
      },
      "source": [
        "## 1.3 Plots\n",
        "\n",
        "You can use Python for plotting.\n",
        "\n",
        "Why is the vectorisation concept useful? \n",
        "\n",
        "It relates to the idea of computer representation; A computer can only represent a finite range of values. \n",
        "\n",
        "In many contexts, a good enough discrete approximation is sufficient. For example, the plotted curve below looks quite smooth, for values of x on the interval with values 0.01 \n",
        "\n",
        "*1.3.1 - Plot of our function, f*"
      ]
    },
    {
      "cell_type": "code",
      "metadata": {
        "id": "2kUlREsLMyho",
        "colab_type": "code",
        "colab": {
          "base_uri": "https://localhost:8080/",
          "height": 283
        },
        "outputId": "c7d358ed-1b88-45f2-f48d-584d80a32005"
      },
      "source": [
        "import matplotlib.pyplot as plt #matplotlib for plots\n",
        "\n",
        "#1.3.1 - Plot of x, f(x)\n",
        "x = np.linspace(-10, 10, 50) #generate 50 values from -10 to 10, i.e. [-10, -9.6, -9.2...9.6, 10]\n",
        "plt.plot(x, f(x))"
      ],
      "execution_count": null,
      "outputs": [
        {
          "output_type": "execute_result",
          "data": {
            "text/plain": [
              "[<matplotlib.lines.Line2D at 0x7fdde1546c88>]"
            ]
          },
          "metadata": {
            "tags": []
          },
          "execution_count": 3
        },
        {
          "output_type": "display_data",
          "data": {
            "image/png": "[encoded data removed]",
            "text/plain": [
              "<Figure size 432x288 with 1 Axes>"
            ]
          },
          "metadata": {
            "tags": [],
            "needs_background": "light"
          }
        }
      ]
    },
    {
      "cell_type": "markdown",
      "metadata": {
        "id": "Q22_KqaKA-lv",
        "colab_type": "text"
      },
      "source": [
        "Matplotlib has a lot of mileage; you can do some more complex plots such as a 3D plot. You can also look tweak the plotting parameters to change the aesthetics, or look into other plotting libraries such as seaborn or plotly\n",
        "\n",
        "*1.3.2 - Plot of a multivariate function : $z = f(x, y) = 5 - x^2 - y^2$*"
      ]
    },
    {
      "cell_type": "code",
      "metadata": {
        "id": "kNuaCRFq_nkn",
        "colab_type": "code",
        "colab": {
          "base_uri": "https://localhost:8080/",
          "height": 248
        },
        "outputId": "43775aac-39be-4348-fdc7-af4cf15095f0"
      },
      "source": [
        "from mpl_toolkits.mplot3d import Axes3D\n",
        "fig = plt.figure()\n",
        "ax = fig.add_subplot(projection='3d')\n",
        "\n",
        "x = np.linspace(-6, 6, 30)\n",
        "y = np.linspace(-6, 6, 30)\n",
        "\n",
        "X, Y = np.meshgrid(x, y)\n",
        "\n",
        "def f2(X, Y):\n",
        "  return 5 - (X ** 2 + Y ** 2 )\n",
        "\n",
        "\n",
        "Z = f2(X, Y)\n",
        "\n",
        "ax.plot_surface(X, Y, Z);\n",
        "ax.plot_surface(X, Y, -2 * (X - 1) - 2 * (Y - 1));"
      ],
      "execution_count": null,
      "outputs": [
        {
          "output_type": "display_data",
          "data": {
            "image/png": "[encoded data removed]",
            "text/plain": [
              "<Figure size 432x288 with 1 Axes>"
            ]
          },
          "metadata": {
            "tags": [],
            "needs_background": "light"
          }
        }
      ]
    },
    {
      "cell_type": "markdown",
      "metadata": {
        "id": "N2MrUybHBzQZ",
        "colab_type": "text"
      },
      "source": [
        "### 1.3 Symbolic computation - Derivatives, Integrals"
      ]
    },
    {
      "cell_type": "code",
      "metadata": {
        "id": "C4Gqeupg_ehD",
        "colab_type": "code",
        "colab": {
          "base_uri": "https://localhost:8080/",
          "height": 52
        },
        "outputId": "a771fd6b-3bc6-4d83-e24d-0678fac46d67"
      },
      "source": [
        "from sympy import *\n",
        "x, y, z = symbols('x y z')\n",
        "print(\"1st derivative:\", diff(sin(x) + (x - 2) ** 2 + 3 - x, x))\n",
        "print(\"2nd derivative:\", diff(diff(sin(x) + (x - 2) ** 2 + 3 - x, x)))"
      ],
      "execution_count": null,
      "outputs": [
        {
          "output_type": "stream",
          "text": [
            "1st derivative: 2*x + cos(x) - 5\n",
            "2nd derivative: -sin(x) + 2\n"
          ],
          "name": "stdout"
        }
      ]
    },
    {
      "cell_type": "markdown",
      "metadata": {
        "id": "hCp0t2FeRu7r",
        "colab_type": "text"
      },
      "source": [
        "### 1.4 Example: Optimisation\n",
        "\n",
        "Let's say this function is some sort of cost function. We want to choose the point that minimises costs\n",
        "\n",
        "We know that the derivative is : $ 2x + cos(x) - 5$ \n",
        "\n",
        "If we want to find a value for the , it would be quite diffiult to get an exact value for the minima given the inclusion of the cos(x) term\n",
        "\n",
        "We can do this computationally using gradient descent:\n",
        "\n",
        "The procedure:\n",
        "\n",
        "Let $x_{t + 1} = x_{t} - \\eta f'(x_{t})$\n",
        "\n",
        "And this should converge to a local minima"
      ]
    },
    {
      "cell_type": "code",
      "metadata": {
        "id": "gRQGdmE8SEDS",
        "colab_type": "code",
        "colab": {}
      },
      "source": [
        "def dfdx(x):\n",
        "  return 2 * x + np.cos(x) - 5"
      ],
      "execution_count": null,
      "outputs": []
    },
    {
      "cell_type": "code",
      "metadata": {
        "id": "MFufUi7LT1bw",
        "colab_type": "code",
        "colab": {
          "base_uri": "https://localhost:8080/",
          "height": 272
        },
        "outputId": "5e34314c-73c5-402c-cd25-dfce8a53be3f"
      },
      "source": [
        "start = -10\n",
        "points = [(start, f(start))]\n",
        "\n",
        "epochs = 10\n",
        "learning_rate = 0.8\n",
        "\n",
        "for i in range(epochs):\n",
        "  points += [(start, f(start))]\n",
        "  start -= learning_rate * dfdx(start)\n",
        "\n",
        "x = np.linspace(-10, 10, 50) #generate 50 values from -10 to 10, i.e. [-10, -9.6, -9.2...9.6,10]\n",
        "plt.plot(x, f(x))\n",
        "plt.plot(np.array(points)[:, 0], np.array(points)[:, 1])"
      ],
      "execution_count": null,
      "outputs": [
        {
          "output_type": "error",
          "ename": "NameError",
          "evalue": "ignored",
          "traceback": [
            "\u001b[0;31m---------------------------------------------------------------------------\u001b[0m",
            "\u001b[0;31mNameError\u001b[0m                                 Traceback (most recent call last)",
            "\u001b[0;32m<ipython-input-5-3f1f60b0d6cb>\u001b[0m in \u001b[0;36m<module>\u001b[0;34m()\u001b[0m\n\u001b[1;32m     10\u001b[0m \u001b[0;34m\u001b[0m\u001b[0m\n\u001b[1;32m     11\u001b[0m \u001b[0mx\u001b[0m \u001b[0;34m=\u001b[0m \u001b[0mnp\u001b[0m\u001b[0;34m.\u001b[0m\u001b[0mlinspace\u001b[0m\u001b[0;34m(\u001b[0m\u001b[0;34m-\u001b[0m\u001b[0;36m10\u001b[0m\u001b[0;34m,\u001b[0m \u001b[0;36m10\u001b[0m\u001b[0;34m,\u001b[0m \u001b[0;36m50\u001b[0m\u001b[0;34m)\u001b[0m \u001b[0;31m#generate 50 values from -10 to 10, i.e. [-10, -9.6, -9.2...9.6,10]\u001b[0m\u001b[0;34m\u001b[0m\u001b[0;34m\u001b[0m\u001b[0m\n\u001b[0;32m---> 12\u001b[0;31m \u001b[0mplt\u001b[0m\u001b[0;34m.\u001b[0m\u001b[0mplot\u001b[0m\u001b[0;34m(\u001b[0m\u001b[0mx\u001b[0m\u001b[0;34m,\u001b[0m \u001b[0mf\u001b[0m\u001b[0;34m(\u001b[0m\u001b[0mx\u001b[0m\u001b[0;34m)\u001b[0m\u001b[0;34m)\u001b[0m\u001b[0;34m\u001b[0m\u001b[0;34m\u001b[0m\u001b[0m\n\u001b[0m\u001b[1;32m     13\u001b[0m \u001b[0mplt\u001b[0m\u001b[0;34m.\u001b[0m\u001b[0mplot\u001b[0m\u001b[0;34m(\u001b[0m\u001b[0mnp\u001b[0m\u001b[0;34m.\u001b[0m\u001b[0marray\u001b[0m\u001b[0;34m(\u001b[0m\u001b[0mpoints\u001b[0m\u001b[0;34m)\u001b[0m\u001b[0;34m[\u001b[0m\u001b[0;34m:\u001b[0m\u001b[0;34m,\u001b[0m \u001b[0;36m0\u001b[0m\u001b[0;34m]\u001b[0m\u001b[0;34m,\u001b[0m \u001b[0mnp\u001b[0m\u001b[0;34m.\u001b[0m\u001b[0marray\u001b[0m\u001b[0;34m(\u001b[0m\u001b[0mpoints\u001b[0m\u001b[0;34m)\u001b[0m\u001b[0;34m[\u001b[0m\u001b[0;34m:\u001b[0m\u001b[0;34m,\u001b[0m \u001b[0;36m1\u001b[0m\u001b[0;34m]\u001b[0m\u001b[0;34m)\u001b[0m\u001b[0;34m\u001b[0m\u001b[0;34m\u001b[0m\u001b[0m\n",
            "\u001b[0;31mNameError\u001b[0m: name 'plt' is not defined"
          ]
        }
      ]
    },
    {
      "cell_type": "code",
      "metadata": {
        "id": "8fLHl3huIhQh",
        "colab_type": "code",
        "colab": {}
      },
      "source": [
        ""
      ],
      "execution_count": null,
      "outputs": []
    },
    {
      "cell_type": "markdown",
      "metadata": {
        "id": "q6FusxbDSt95",
        "colab_type": "text"
      },
      "source": [
        "### Gradients\n",
        "\n",
        "We can use JAX to do automatic differentation (AutoDiff). \n",
        "\n",
        "Instead of explicitly computing the derivative of this function, JAX can compute the value of a derivative\n",
        "\n",
        "Why is this useful? For a more complex function, explicitly computing the derivative could be difficult\n",
        "\n",
        "The calculation of gradients is key for several optimisation techniques, such as backpropogation for neural networks"
      ]
    },
    {
      "cell_type": "code",
      "metadata": {
        "id": "EbGGyf7QSepJ",
        "colab_type": "code",
        "colab": {
          "base_uri": "https://localhost:8080/",
          "height": 34
        },
        "outputId": "dfcb0afd-2f48-4bcf-feb1-c009838746e1"
      },
      "source": [
        "grad_f = grad(f)\n",
        "print(grad_f(3.0))"
      ],
      "execution_count": null,
      "outputs": [
        {
          "output_type": "stream",
          "text": [
            "4.0100074\n"
          ],
          "name": "stdout"
        }
      ]
    },
    {
      "cell_type": "markdown",
      "metadata": {
        "id": "58MrZujjG6vb",
        "colab_type": "text"
      },
      "source": [
        "### 2.1\n",
        "\n",
        "We can use Python to perform Linear Algebra computations: Matrix addition, multiplication, inverses eigenvalues\n",
        "\n",
        "\n",
        "The following is akin to the matrix\n",
        "\n",
        "$$ A = \\begin{pmatrix} 1 & 1 & 1 \\\\ 1 & 1 & 1 \\\\ 1& 1 & 1  \\end{pmatrix},  $$"
      ]
    },
    {
      "cell_type": "code",
      "metadata": {
        "id": "iMAj4qRhG_9b",
        "colab_type": "code",
        "colab": {}
      },
      "source": [
        "A = np.array([[1, 1, 1],\n",
        "             [1, 1, 1],\n",
        "             [1, 1, 1]])\n",
        "\n",
        "B = np.array([[1, 1, -1],\n",
        "             [-1, 1, 1],\n",
        "             [-1, -1, 1]])\n",
        "\n",
        "x = np.array([1, 2, 3])"
      ],
      "execution_count": null,
      "outputs": []
    },
    {
      "cell_type": "code",
      "metadata": {
        "id": "Y4rFAtkwHRmd",
        "colab_type": "code",
        "colab": {
          "base_uri": "https://localhost:8080/",
          "height": 121
        },
        "outputId": "5407c413-1c00-4e67-b8f2-2e4bf2976789"
      },
      "source": [
        "matrix_vector_product = A @ x\n",
        "print(f\"The Matrix-Vector product (Ax) is: \\n{matrix_vector_product}\")\n",
        "matrix_sum = A + B\n",
        "print(f\"The Matrix-Matrix sum A + B is: \\n{matrix_sum}\")"
      ],
      "execution_count": null,
      "outputs": [
        {
          "output_type": "stream",
          "text": [
            "The Matrix-Vector product (Ax) is: \n",
            "[6 6 6]\n",
            "The Matrix-Matrix sum A + B is: \n",
            "[[2 2 0]\n",
            " [0 2 2]\n",
            " [0 0 2]]\n"
          ],
          "name": "stdout"
        }
      ]
    },
    {
      "cell_type": "markdown",
      "metadata": {
        "id": "ehQY9R9xVkEo",
        "colab_type": "text"
      },
      "source": [
        "Caveat: Numerical stability. Computer representations of decmials are not precise\n",
        "\n",
        "Calculate eigenvalues:"
      ]
    },
    {
      "cell_type": "code",
      "metadata": {
        "id": "xzxxkYcxVQ0-",
        "colab_type": "code",
        "colab": {
          "base_uri": "https://localhost:8080/",
          "height": 87
        },
        "outputId": "2b8dfaa8-7208-42ec-9085-c23e0df969e0"
      },
      "source": [
        "np.linalg.eig(A)"
      ],
      "execution_count": null,
      "outputs": [
        {
          "output_type": "execute_result",
          "data": {
            "text/plain": [
              "(DeviceArray([ 3.0000002e+00+0.j, -2.2114128e-11+0.j,  2.2114128e-11+0.j],            dtype=complex64),\n",
              " DeviceArray([[ 5.7735026e-01+0.j, -2.6228541e-04+0.j, -2.6240689e-04+0.j],\n",
              "              [ 5.7735026e-01+0.j,  7.0723796e-01+0.j, -7.0697558e-01+0.j],\n",
              "              [ 5.7735026e-01+0.j, -7.0697558e-01+0.j,  7.0723790e-01+0.j]],            dtype=complex64))"
            ]
          },
          "metadata": {
            "tags": []
          },
          "execution_count": 67
        }
      ]
    },
    {
      "cell_type": "markdown",
      "metadata": {
        "id": "5nqx5dJwCuwW",
        "colab_type": "text"
      },
      "source": [
        "Example : Production Matrix\n"
      ]
    },
    {
      "cell_type": "markdown",
      "metadata": {
        "id": "t__RbLEfNabQ",
        "colab_type": "text"
      },
      "source": [
        "Example : Markov Chains\n"
      ]
    },
    {
      "cell_type": "code",
      "metadata": {
        "id": "2vCz0vIjNPDH",
        "colab_type": "code",
        "colab": {}
      },
      "source": [
        "A = np.array([[0.9, 0.8],\n",
        "              [0.1, 0.2]])"
      ],
      "execution_count": null,
      "outputs": []
    },
    {
      "cell_type": "code",
      "metadata": {
        "id": "DSWJJv85Nb3c",
        "colab_type": "code",
        "colab": {}
      },
      "source": [
        "v = np.array([10,20])"
      ],
      "execution_count": null,
      "outputs": []
    },
    {
      "cell_type": "code",
      "metadata": {
        "id": "JjDRKtFQNhec",
        "colab_type": "code",
        "colab": {
          "base_uri": "https://localhost:8080/",
          "height": 86
        },
        "outputId": "fdfd8ce1-447f-400f-d6d1-b599a7f93d13"
      },
      "source": [
        "print(\"Eigenvalues:\",np.linalg.eig(A)[0])\n",
        "print(\"Eigenvectors:\\n\", np.linalg.eig(A)[1])"
      ],
      "execution_count": null,
      "outputs": [
        {
          "output_type": "stream",
          "text": [
            "Eigenvalues: [1.  0.1]\n",
            "Eigenvectors:\n",
            " [[ 0.99227788 -0.70710678]\n",
            " [ 0.12403473  0.70710678]]\n"
          ],
          "name": "stdout"
        }
      ]
    },
    {
      "cell_type": "code",
      "metadata": {
        "id": "jvlE99ljOJNQ",
        "colab_type": "code",
        "colab": {
          "base_uri": "https://localhost:8080/",
          "height": 34
        },
        "outputId": "a543d19b-fe31-4cad-e8c9-f7d0af6534ef"
      },
      "source": [
        "A @ v"
      ],
      "execution_count": null,
      "outputs": [
        {
          "output_type": "execute_result",
          "data": {
            "text/plain": [
              "DeviceArray([25.,  5.], dtype=float32)"
            ]
          },
          "metadata": {
            "tags": []
          },
          "execution_count": 91
        }
      ]
    },
    {
      "cell_type": "markdown",
      "metadata": {
        "id": "GK7PdDolMmrf",
        "colab_type": "text"
      },
      "source": [
        "3.1 Putting together Linear algebra and Calculus: \n",
        "\n",
        "\n",
        "Stochastic Gradient Descent\n",
        "\n",
        "Conceptually: The same gradient descent, but applied to matrices\n",
        "\n",
        "Actual function: $ y = 2x_{1} + 3 x_{2} + \\epsilon, \\epsilon \\sim N(0,1) $"
      ]
    },
    {
      "cell_type": "code",
      "metadata": {
        "id": "Wpv35OGvMqjc",
        "colab_type": "code",
        "colab": {
          "base_uri": "https://localhost:8080/",
          "height": 35
        },
        "outputId": "bf7ffe22-6884-42a0-c43c-6665bee451ee"
      },
      "source": [
        "X = np.random.randint(0,10, (100, 2))\n",
        "b_1, b_2 = -7, -2\n",
        "y = b_1 * X[:,0] + b_2 * X[:,1] + np.random.randn(100)\n",
        "weights = np.random.randn(2)\n",
        "weights_path = [weights.copy()]\n",
        "print(weights)"
      ],
      "execution_count": null,
      "outputs": [
        {
          "output_type": "stream",
          "text": [
            "[ 0.0653018  -0.38422126]\n"
          ],
          "name": "stdout"
        }
      ]
    },
    {
      "cell_type": "markdown",
      "metadata": {
        "id": "2N6-mrJWOsM3",
        "colab_type": "text"
      },
      "source": [
        "Defined the loss function: Minimise the mean squared error ('distance') between our estimated function and the actual\n",
        "\n",
        "$ L(y, x, w) = \\frac{1}{N} \\sum (y_{i} - w_{1} x_{i1} - w_{2} x_{i2})^2 $"
      ]
    },
    {
      "cell_type": "code",
      "metadata": {
        "id": "qNflIUiyNMic",
        "colab_type": "code",
        "colab": {}
      },
      "source": [
        "learning_rate = 0.005\n",
        "ITERS = 100\n",
        "losses = []\n",
        "for i in range(ITERS):\n",
        "  weights[0] -= learning_rate * np.sum(-2 * X[:,0] * (y - X @ weights)) / 100\n",
        "  weights[1] -= learning_rate * np.sum(-2 * X[:,1] * (y - X @ weights)) / 100\n",
        "  weights_path += [weights.copy()]\n",
        "  losses += [np.mean((y - X @ weights) ** 2)]"
      ],
      "execution_count": null,
      "outputs": []
    },
    {
      "cell_type": "code",
      "metadata": {
        "id": "dwNaIx_Wb7Bi",
        "colab_type": "code",
        "colab": {
          "base_uri": "https://localhost:8080/",
          "height": 283
        },
        "outputId": "b111f38d-1ff4-4eb3-ba5f-463aaff1ee03"
      },
      "source": [
        "w1 = np.arange(-10,10,0.1)\n",
        "w2 = np.arange(-10,10,0.1)\n",
        "W1, W2 = np.meshgrid(w1, w2)\n",
        "plt.contour(w1, w2, np.mean((np.tensordot(X,np.array([W1,W2]),axes=1) - y.reshape(-1,1,1)) ** 2,axis=0))\n",
        "\n",
        "weights_path = np.array(weights_path).reshape(-1,2)\n",
        "plt.plot(weights_path[:,0], weights_path[:,1], \".r-\")"
      ],
      "execution_count": null,
      "outputs": [
        {
          "output_type": "execute_result",
          "data": {
            "text/plain": [
              "[<matplotlib.lines.Line2D at 0x7fdddba268d0>]"
            ]
          },
          "metadata": {
            "tags": []
          },
          "execution_count": 100
        },
        {
          "output_type": "display_data",
          "data": {
            "image/png": "[encoded data removed]",
            "text/plain": [
              "<Figure size 432x288 with 1 Axes>"
            ]
          },
          "metadata": {
            "tags": [],
            "needs_background": "light"
          }
        }
      ]
    },
    {
      "cell_type": "code",
      "metadata": {
        "id": "UIsbM2NDe3KA",
        "colab_type": "code",
        "colab": {
          "base_uri": "https://localhost:8080/",
          "height": 283
        },
        "outputId": "257ef06a-7f84-4c52-d500-a66bcee8d9c2"
      },
      "source": [
        "plt.plot(np.arange(ITERS),losses)"
      ],
      "execution_count": null,
      "outputs": [
        {
          "output_type": "execute_result",
          "data": {
            "text/plain": [
              "[<matplotlib.lines.Line2D at 0x7fdddb967eb8>]"
            ]
          },
          "metadata": {
            "tags": []
          },
          "execution_count": 101
        },
        {
          "output_type": "display_data",
          "data": {
            "image/png": "[encoded data removed]",
            "text/plain": [
              "<Figure size 432x288 with 1 Axes>"
            ]
          },
          "metadata": {
            "tags": [],
            "needs_background": "light"
          }
        }
      ]
    },
    {
      "cell_type": "markdown",
      "metadata": {
        "id": "h40wNPpxDw1q",
        "colab_type": "text"
      },
      "source": [
        "#Further Resources\n",
        "\n",
        "Scipy Lectures: https://scipy-lectures.org/\n",
        "\n",
        "Tutorials for how to use Python (numpy, scipy) for numerical computation\n"
      ]
    }
  ]
}